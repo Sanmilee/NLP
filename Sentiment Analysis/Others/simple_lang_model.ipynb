{
 "cells": [
  {
   "cell_type": "markdown",
   "metadata": {},
   "source": [
    "## Simple language model to generate the subsequent word in a sequence"
   ]
  },
  {
   "cell_type": "code",
   "execution_count": 1,
   "metadata": {},
   "outputs": [
    {
     "name": "stderr",
     "output_type": "stream",
     "text": [
      "c:\\users\\lord sanmilee\\appdata\\local\\programs\\python\\python36\\lib\\site-packages\\numpy\\core\\__init__.py:29: UserWarning: loaded more than 1 DLL from .libs:\n",
      "c:\\users\\lord sanmilee\\appdata\\local\\programs\\python\\python36\\lib\\site-packages\\numpy\\.libs\\libopenblas.IPBC74C7KURV7CB2PKT5Z5FNR3SIBV4J.gfortran-win_amd64.dll\n",
      "c:\\users\\lord sanmilee\\appdata\\local\\programs\\python\\python36\\lib\\site-packages\\numpy\\.libs\\libopenblas.TXA6YQSD3GCQQC22GEQ54J2UDCXDXHWN.gfortran-win_amd64.dll\n",
      "  stacklevel=1)\n",
      "Using TensorFlow backend.\n"
     ]
    }
   ],
   "source": [
    "from numpy import array\n",
    "from keras.preprocessing.text import Tokenizer\n",
    "from keras.utils import to_categorical\n",
    "from keras.models import Sequential\n",
    "from keras.layers import Dense\n",
    "from keras.layers import LSTM\n",
    "from keras.layers import Embedding"
   ]
  },
  {
   "cell_type": "code",
   "execution_count": 2,
   "metadata": {},
   "outputs": [],
   "source": [
    "data = \"\"\" I went down yesterday to the Piraeus with Glaucon the son of Ariston,\n",
    "that I might offer up my prayers to the goddess (Bendis, the Thracian\n",
    "Artemis.); and also because I wanted to see in what manner they would\n",
    "celebrate the festival, which was a new thing. I was delighted with the\n",
    "procession of the inhabitants; but that of the Thracians was equally,\n",
    "if not more, beautiful. When we had finished our prayers and viewed the\n",
    "spectacle, we turned in the direction of the city; and at that instant\n",
    "Polemarchus the son of Cephalus chanced to catch sight of us from a\n",
    "distance as we were starting on our way home, and told his servant to\n",
    "run and bid us wait for him. The servant took hold of me by the cloak\n",
    "behind, and said: Polemarchus desires you to wait. \"\"\""
   ]
  },
  {
   "cell_type": "code",
   "execution_count": 3,
   "metadata": {},
   "outputs": [],
   "source": [
    "# generate a sequence from the model\n",
    "def generate_seq(model, tokenizer, seed_text, n_words):\n",
    "\tin_text, result = seed_text, seed_text\n",
    "\t# generate a fixed number of words\n",
    "\tfor _ in range(n_words):\n",
    "\t\t# encode the text as integer\n",
    "\t\tencoded = tokenizer.texts_to_sequences([in_text])[0]\n",
    "\t\tencoded = array(encoded)\n",
    "\t\t# predict a word in the vocabulary\n",
    "\t\tyhat = model.predict_classes(encoded, verbose=0)\n",
    "\t\t# map predicted word index to word\n",
    "\t\tout_word = ''\n",
    "\t\tfor word, index in tokenizer.word_index.items():\n",
    "\t\t\tif index == yhat:\n",
    "\t\t\t\tout_word = word\n",
    "\t\t\t\tbreak\n",
    "\t\t# append to input\n",
    "\t\tin_text, result = out_word, result + ' ' + out_word\n",
    "\treturn result"
   ]
  },
  {
   "cell_type": "code",
   "execution_count": 4,
   "metadata": {},
   "outputs": [
    {
     "name": "stdout",
     "output_type": "stream",
     "text": [
      "Vocabulary Size: 93\n"
     ]
    }
   ],
   "source": [
    "\n",
    "# integer encode text\n",
    "tokenizer = Tokenizer()\n",
    "tokenizer.fit_on_texts([data])\n",
    "encoded = tokenizer.texts_to_sequences([data])[0]\n",
    "# determine the vocabulary size\n",
    "vocab_size = len(tokenizer.word_index) + 1\n",
    "print('Vocabulary Size: %d' % vocab_size)\n",
    "# create word -> word sequences\n",
    "sequences = list()"
   ]
  },
  {
   "cell_type": "code",
   "execution_count": 5,
   "metadata": {},
   "outputs": [
    {
     "name": "stdout",
     "output_type": "stream",
     "text": [
      "Total Sequences: 139\n"
     ]
    }
   ],
   "source": [
    "for i in range(1, len(encoded)):\n",
    "\tsequence = encoded[i-1:i+1]\n",
    "\tsequences.append(sequence)\n",
    "print('Total Sequences: %d' % len(sequences))\n",
    "# split into X and y elements\n",
    "sequences = array(sequences)\n",
    "X, y = sequences[:,0],sequences[:,1]\n",
    "# one hot encode outputs\n",
    "y = to_categorical(y, num_classes=vocab_size)"
   ]
  },
  {
   "cell_type": "code",
   "execution_count": 6,
   "metadata": {},
   "outputs": [
    {
     "name": "stdout",
     "output_type": "stream",
     "text": [
      "_________________________________________________________________\n",
      "Layer (type)                 Output Shape              Param #   \n",
      "=================================================================\n",
      "embedding_1 (Embedding)      (None, 1, 10)             930       \n",
      "_________________________________________________________________\n",
      "lstm_1 (LSTM)                (None, 50)                12200     \n",
      "_________________________________________________________________\n",
      "dense_1 (Dense)              (None, 93)                4743      \n",
      "=================================================================\n",
      "Total params: 17,873\n",
      "Trainable params: 17,873\n",
      "Non-trainable params: 0\n",
      "_________________________________________________________________\n",
      "None\n"
     ]
    }
   ],
   "source": [
    "# define model\n",
    "model = Sequential()\n",
    "model.add(Embedding(vocab_size, 10, input_length=1))\n",
    "model.add(LSTM(50))\n",
    "model.add(Dense(vocab_size, activation='softmax'))\n",
    "print(model.summary())\n"
   ]
  },
  {
   "cell_type": "code",
   "execution_count": 7,
   "metadata": {},
   "outputs": [
    {
     "name": "stdout",
     "output_type": "stream",
     "text": [
      "Epoch 1/100\n",
      "139/139 [==============================] - 1s 11ms/step - loss: 4.5324 - acc: 0.0432\n",
      "Epoch 2/100\n",
      "139/139 [==============================] - 0s 215us/step - loss: 4.5298 - acc: 0.1151\n",
      "Epoch 3/100\n",
      "139/139 [==============================] - 0s 215us/step - loss: 4.5275 - acc: 0.1295\n",
      "Epoch 4/100\n",
      "139/139 [==============================] - 0s 230us/step - loss: 4.5253 - acc: 0.1151\n",
      "Epoch 5/100\n",
      "139/139 [==============================] - 0s 223us/step - loss: 4.5227 - acc: 0.1151\n",
      "Epoch 6/100\n",
      "139/139 [==============================] - 0s 251us/step - loss: 4.5202 - acc: 0.1151\n",
      "Epoch 7/100\n",
      "139/139 [==============================] - 0s 294us/step - loss: 4.5175 - acc: 0.1151\n",
      "Epoch 8/100\n",
      "139/139 [==============================] - 0s 280us/step - loss: 4.5145 - acc: 0.1151\n",
      "Epoch 9/100\n",
      "139/139 [==============================] - 0s 215us/step - loss: 4.5111 - acc: 0.1151\n",
      "Epoch 10/100\n",
      "139/139 [==============================] - 0s 222us/step - loss: 4.5075 - acc: 0.1151\n",
      "Epoch 11/100\n",
      "139/139 [==============================] - 0s 230us/step - loss: 4.5038 - acc: 0.1151\n",
      "Epoch 12/100\n",
      "139/139 [==============================] - 0s 237us/step - loss: 4.4992 - acc: 0.1223\n",
      "Epoch 13/100\n",
      "139/139 [==============================] - 0s 223us/step - loss: 4.4945 - acc: 0.1223\n",
      "Epoch 14/100\n",
      "139/139 [==============================] - 0s 230us/step - loss: 4.4889 - acc: 0.1223\n",
      "Epoch 15/100\n",
      "139/139 [==============================] - 0s 230us/step - loss: 4.4833 - acc: 0.1295\n",
      "Epoch 16/100\n",
      "139/139 [==============================] - 0s 237us/step - loss: 4.4765 - acc: 0.1295\n",
      "Epoch 17/100\n",
      "139/139 [==============================] - 0s 222us/step - loss: 4.4693 - acc: 0.1295\n",
      "Epoch 18/100\n",
      "139/139 [==============================] - 0s 230us/step - loss: 4.4612 - acc: 0.1295\n",
      "Epoch 19/100\n",
      "139/139 [==============================] - 0s 237us/step - loss: 4.4522 - acc: 0.1295\n",
      "Epoch 20/100\n",
      "139/139 [==============================] - 0s 251us/step - loss: 4.4421 - acc: 0.1295\n",
      "Epoch 21/100\n",
      "139/139 [==============================] - 0s 208us/step - loss: 4.4311 - acc: 0.1367\n",
      "Epoch 22/100\n",
      "139/139 [==============================] - 0s 230us/step - loss: 4.4185 - acc: 0.1439\n",
      "Epoch 23/100\n",
      "139/139 [==============================] - 0s 237us/step - loss: 4.4051 - acc: 0.1439\n",
      "Epoch 24/100\n",
      "139/139 [==============================] - 0s 258us/step - loss: 4.3892 - acc: 0.1439\n",
      "Epoch 25/100\n",
      "139/139 [==============================] - 0s 222us/step - loss: 4.3723 - acc: 0.1511\n",
      "Epoch 26/100\n",
      "139/139 [==============================] - 0s 251us/step - loss: 4.3536 - acc: 0.1511\n",
      "Epoch 27/100\n",
      "139/139 [==============================] - 0s 223us/step - loss: 4.3338 - acc: 0.1511\n",
      "Epoch 28/100\n",
      "139/139 [==============================] - ETA: 0s - loss: 4.3690 - acc: 0.125 - 0s 230us/step - loss: 4.3101 - acc: 0.1511\n",
      "Epoch 29/100\n",
      "139/139 [==============================] - 0s 237us/step - loss: 4.2865 - acc: 0.1511\n",
      "Epoch 30/100\n",
      "139/139 [==============================] - 0s 222us/step - loss: 4.2594 - acc: 0.1511\n",
      "Epoch 31/100\n",
      "139/139 [==============================] - 0s 244us/step - loss: 4.2317 - acc: 0.1511\n",
      "Epoch 32/100\n",
      "139/139 [==============================] - 0s 230us/step - loss: 4.2008 - acc: 0.1511\n",
      "Epoch 33/100\n",
      "139/139 [==============================] - 0s 244us/step - loss: 4.1668 - acc: 0.1511\n",
      "Epoch 34/100\n",
      "139/139 [==============================] - 0s 237us/step - loss: 4.1323 - acc: 0.1511\n",
      "Epoch 35/100\n",
      "139/139 [==============================] - 0s 215us/step - loss: 4.0936 - acc: 0.1511\n",
      "Epoch 36/100\n",
      "139/139 [==============================] - 0s 222us/step - loss: 4.0522 - acc: 0.1511\n",
      "Epoch 37/100\n",
      "139/139 [==============================] - 0s 223us/step - loss: 4.0106 - acc: 0.1511\n",
      "Epoch 38/100\n",
      "139/139 [==============================] - 0s 229us/step - loss: 3.9655 - acc: 0.1511\n",
      "Epoch 39/100\n",
      "139/139 [==============================] - 0s 223us/step - loss: 3.9221 - acc: 0.1511\n",
      "Epoch 40/100\n",
      "139/139 [==============================] - 0s 215us/step - loss: 3.8777 - acc: 0.1511\n",
      "Epoch 41/100\n",
      "139/139 [==============================] - 0s 230us/step - loss: 3.8343 - acc: 0.1511\n",
      "Epoch 42/100\n",
      "139/139 [==============================] - 0s 222us/step - loss: 3.7904 - acc: 0.1511\n",
      "Epoch 43/100\n",
      "139/139 [==============================] - 0s 230us/step - loss: 3.7495 - acc: 0.1511\n",
      "Epoch 44/100\n",
      "139/139 [==============================] - 0s 222us/step - loss: 3.7091 - acc: 0.1511\n",
      "Epoch 45/100\n",
      "139/139 [==============================] - 0s 230us/step - loss: 3.6687 - acc: 0.1511\n",
      "Epoch 46/100\n",
      "139/139 [==============================] - 0s 215us/step - loss: 3.6341 - acc: 0.1511\n",
      "Epoch 47/100\n",
      "139/139 [==============================] - ETA: 0s - loss: 3.4995 - acc: 0.218 - 0s 258us/step - loss: 3.5977 - acc: 0.1511\n",
      "Epoch 48/100\n",
      "139/139 [==============================] - 0s 222us/step - loss: 3.5618 - acc: 0.1511\n",
      "Epoch 49/100\n",
      "139/139 [==============================] - 0s 230us/step - loss: 3.5293 - acc: 0.1511\n",
      "Epoch 50/100\n",
      "139/139 [==============================] - ETA: 0s - loss: 3.5894 - acc: 0.156 - 0s 222us/step - loss: 3.4932 - acc: 0.1511\n",
      "Epoch 51/100\n",
      "139/139 [==============================] - 0s 244us/step - loss: 3.4600 - acc: 0.1511\n",
      "Epoch 52/100\n",
      "139/139 [==============================] - 0s 216us/step - loss: 3.4260 - acc: 0.1511\n",
      "Epoch 53/100\n",
      "139/139 [==============================] - 0s 229us/step - loss: 3.3925 - acc: 0.1511\n",
      "Epoch 54/100\n",
      "139/139 [==============================] - 0s 244us/step - loss: 3.3608 - acc: 0.1511\n",
      "Epoch 55/100\n",
      "139/139 [==============================] - 0s 215us/step - loss: 3.3271 - acc: 0.1511\n",
      "Epoch 56/100\n",
      "139/139 [==============================] - 0s 215us/step - loss: 3.2957 - acc: 0.1655\n",
      "Epoch 57/100\n",
      "139/139 [==============================] - 0s 273us/step - loss: 3.2642 - acc: 0.1942\n",
      "Epoch 58/100\n",
      "139/139 [==============================] - ETA: 0s - loss: 3.1160 - acc: 0.250 - 0s 244us/step - loss: 3.2337 - acc: 0.2086\n",
      "Epoch 59/100\n",
      "139/139 [==============================] - 0s 237us/step - loss: 3.2034 - acc: 0.2158\n",
      "Epoch 60/100\n",
      "139/139 [==============================] - 0s 223us/step - loss: 3.1728 - acc: 0.2158\n",
      "Epoch 61/100\n",
      "139/139 [==============================] - 0s 237us/step - loss: 3.1447 - acc: 0.2302\n",
      "Epoch 62/100\n",
      "139/139 [==============================] - 0s 251us/step - loss: 3.1163 - acc: 0.2302\n",
      "Epoch 63/100\n",
      "139/139 [==============================] - ETA: 0s - loss: 2.9248 - acc: 0.343 - 0s 273us/step - loss: 3.0895 - acc: 0.2302\n",
      "Epoch 64/100\n",
      "139/139 [==============================] - 0s 237us/step - loss: 3.0622 - acc: 0.2446\n",
      "Epoch 65/100\n",
      "139/139 [==============================] - 0s 222us/step - loss: 3.0356 - acc: 0.2446\n",
      "Epoch 66/100\n",
      "139/139 [==============================] - 0s 222us/step - loss: 3.0105 - acc: 0.2446\n",
      "Epoch 67/100\n",
      "139/139 [==============================] - 0s 237us/step - loss: 2.9857 - acc: 0.2446\n",
      "Epoch 68/100\n",
      "139/139 [==============================] - 0s 230us/step - loss: 2.9616 - acc: 0.2590\n",
      "Epoch 69/100\n",
      "139/139 [==============================] - 0s 222us/step - loss: 2.9391 - acc: 0.2590\n",
      "Epoch 70/100\n",
      "139/139 [==============================] - 0s 230us/step - loss: 2.9164 - acc: 0.2590\n",
      "Epoch 71/100\n",
      "139/139 [==============================] - 0s 215us/step - loss: 2.8939 - acc: 0.2590\n",
      "Epoch 72/100\n",
      "139/139 [==============================] - 0s 244us/step - loss: 2.8716 - acc: 0.2662\n",
      "Epoch 73/100\n",
      "139/139 [==============================] - 0s 272us/step - loss: 2.8499 - acc: 0.2734\n",
      "Epoch 74/100\n",
      "139/139 [==============================] - 0s 222us/step - loss: 2.8291 - acc: 0.2734\n",
      "Epoch 75/100\n",
      "139/139 [==============================] - 0s 215us/step - loss: 2.8079 - acc: 0.2734\n",
      "Epoch 76/100\n",
      "139/139 [==============================] - 0s 251us/step - loss: 2.7873 - acc: 0.2734\n",
      "Epoch 77/100\n",
      "139/139 [==============================] - 0s 230us/step - loss: 2.7673 - acc: 0.2878\n",
      "Epoch 78/100\n",
      "139/139 [==============================] - 0s 244us/step - loss: 2.7473 - acc: 0.3094\n",
      "Epoch 79/100\n",
      "139/139 [==============================] - 0s 215us/step - loss: 2.7278 - acc: 0.3094\n",
      "Epoch 80/100\n",
      "139/139 [==============================] - 0s 245us/step - loss: 2.7086 - acc: 0.3237\n",
      "Epoch 81/100\n",
      "139/139 [==============================] - 0s 215us/step - loss: 2.6904 - acc: 0.3165\n"
     ]
    },
    {
     "name": "stdout",
     "output_type": "stream",
     "text": [
      "Epoch 82/100\n",
      "139/139 [==============================] - 0s 208us/step - loss: 2.6714 - acc: 0.3237\n",
      "Epoch 83/100\n",
      "139/139 [==============================] - 0s 222us/step - loss: 2.6517 - acc: 0.3309\n",
      "Epoch 84/100\n",
      "139/139 [==============================] - 0s 222us/step - loss: 2.6336 - acc: 0.3309\n",
      "Epoch 85/100\n",
      "139/139 [==============================] - 0s 230us/step - loss: 2.6148 - acc: 0.3309\n",
      "Epoch 86/100\n",
      "139/139 [==============================] - 0s 222us/step - loss: 2.5961 - acc: 0.3381\n",
      "Epoch 87/100\n",
      "139/139 [==============================] - 0s 215us/step - loss: 2.5782 - acc: 0.3309\n",
      "Epoch 88/100\n",
      "139/139 [==============================] - 0s 258us/step - loss: 2.5601 - acc: 0.3381\n",
      "Epoch 89/100\n",
      "139/139 [==============================] - 0s 215us/step - loss: 2.5414 - acc: 0.3597\n",
      "Epoch 90/100\n",
      "139/139 [==============================] - 0s 208us/step - loss: 2.5238 - acc: 0.3597\n",
      "Epoch 91/100\n",
      "139/139 [==============================] - 0s 222us/step - loss: 2.5056 - acc: 0.3885\n",
      "Epoch 92/100\n",
      "139/139 [==============================] - 0s 208us/step - loss: 2.4881 - acc: 0.3885\n",
      "Epoch 93/100\n",
      "139/139 [==============================] - 0s 208us/step - loss: 2.4714 - acc: 0.3957\n",
      "Epoch 94/100\n",
      "139/139 [==============================] - 0s 222us/step - loss: 2.4535 - acc: 0.4101\n",
      "Epoch 95/100\n",
      "139/139 [==============================] - 0s 230us/step - loss: 2.4358 - acc: 0.4101\n",
      "Epoch 96/100\n",
      "139/139 [==============================] - 0s 215us/step - loss: 2.4184 - acc: 0.4173\n",
      "Epoch 97/100\n",
      "139/139 [==============================] - 0s 215us/step - loss: 2.4012 - acc: 0.4173\n",
      "Epoch 98/100\n",
      "139/139 [==============================] - 0s 215us/step - loss: 2.3842 - acc: 0.4173\n",
      "Epoch 99/100\n",
      "139/139 [==============================] - 0s 230us/step - loss: 2.3672 - acc: 0.4173\n",
      "Epoch 100/100\n",
      "139/139 [==============================] - 0s 208us/step - loss: 2.3505 - acc: 0.4245\n"
     ]
    },
    {
     "data": {
      "text/plain": [
       "<keras.callbacks.History at 0x1f41fcb8a90>"
      ]
     },
     "execution_count": 7,
     "metadata": {},
     "output_type": "execute_result"
    }
   ],
   "source": [
    "\n",
    "# compile network\n",
    "model.compile(loss='categorical_crossentropy', optimizer='adam', metrics=['accuracy'])\n",
    "\n",
    "# fit network\n",
    "model.fit(X, y, epochs=100, verbose=1)\n"
   ]
  },
  {
   "cell_type": "code",
   "execution_count": null,
   "metadata": {},
   "outputs": [],
   "source": []
  },
  {
   "cell_type": "code",
   "execution_count": null,
   "metadata": {},
   "outputs": [],
   "source": []
  }
 ],
 "metadata": {
  "kernelspec": {
   "display_name": "Python 3",
   "language": "python",
   "name": "python3"
  },
  "language_info": {
   "codemirror_mode": {
    "name": "ipython",
    "version": 3
   },
   "file_extension": ".py",
   "mimetype": "text/x-python",
   "name": "python",
   "nbconvert_exporter": "python",
   "pygments_lexer": "ipython3",
   "version": "3.6.7"
  }
 },
 "nbformat": 4,
 "nbformat_minor": 2
}
