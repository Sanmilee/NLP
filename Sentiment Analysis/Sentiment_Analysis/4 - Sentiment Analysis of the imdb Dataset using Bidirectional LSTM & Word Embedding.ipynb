{
 "cells": [
  {
   "cell_type": "markdown",
   "metadata": {},
   "source": [
    "### Sentiment Analysis of the imdb Dataset using Bidirectional LSTM\n",
    "\n",
    "#### Load Data\n",
    "- Preprocess Text\n",
    "- Clean Text\n",
    "- Tokenize\n",
    "- Split data to train and test set\n",
    "\n",
    "#### Model Design\n",
    "- Build Embeding Matrix\n",
    "- Create Embeding Layer\n",
    "- Model Network\n",
    "- Train Model\n",
    "\n",
    "#### Model Analysis\n",
    "- Evalute Train Set\n",
    "- Evaluate Test Set\n",
    "- Visual Display\n",
    "\n",
    "#### Sample reviews based on model"
   ]
  },
  {
   "cell_type": "code",
   "execution_count": 15,
   "metadata": {},
   "outputs": [],
   "source": [
    "import numpy\n",
    "import tqdm\n",
    "import os\n",
    "import codecs\n",
    "import pandas as pd\n",
    "import seaborn as sns\n",
    "\n",
    "from keras.models import Model\n",
    "from keras.layers import Conv1D, Dense, LSTM, Dropout, BatchNormalization, Bidirectional\n",
    "from keras.layers import Embedding, Input\n",
    "import matplotlib.pyplot as plt\n",
    "from sklearn.metrics import confusion_matrix\n",
    "\n",
    "from sklearn.model_selection import train_test_split\n",
    "from keras.preprocessing.sequence import pad_sequences\n",
    "from keras.utils import np_utils\n",
    "import numpy as np"
   ]
  },
  {
   "cell_type": "markdown",
   "metadata": {},
   "source": [
    "#### Load Data\n"
   ]
  },
  {
   "cell_type": "code",
   "execution_count": 2,
   "metadata": {},
   "outputs": [],
   "source": [
    "positive_dir = \"aclImdb/train/pos\"\n",
    "negative_dir = \"aclImdb/train/neg\""
   ]
  },
  {
   "cell_type": "markdown",
   "metadata": {},
   "source": [
    "#### Preprocess Text\n"
   ]
  },
  {
   "cell_type": "code",
   "execution_count": 3,
   "metadata": {},
   "outputs": [
    {
     "name": "stderr",
     "output_type": "stream",
     "text": [
      "  4%| | 48"
     ]
    },
    {
     "name": "stdout",
     "output_type": "stream",
     "text": [
      "Reading negative reviews.\n"
     ]
    },
    {
     "name": "stderr",
     "output_type": "stream",
     "text": [
      "100%|█| 12\n",
      "  7%| | 88"
     ]
    },
    {
     "name": "stdout",
     "output_type": "stream",
     "text": [
      "Reading positive reviews.\n"
     ]
    },
    {
     "name": "stderr",
     "output_type": "stream",
     "text": [
      "100%|█| 12\n"
     ]
    }
   ],
   "source": [
    "def read_text(filename):\n",
    "    with codecs.open(filename, encoding='utf8') as f:\n",
    "            return f.read().lower()\n",
    "\n",
    "        \n",
    "print (\"Reading negative reviews.\")\n",
    "negative_text = [read_text(os.path.join(negative_dir, filename))\n",
    "        for filename in tqdm.tqdm(os.listdir(negative_dir), ncols=10)]\n",
    "        \n",
    "    \n",
    "print (\"Reading positive reviews.\")\n",
    "positive_text = [read_text(os.path.join(positive_dir, filename))\n",
    "        for filename in tqdm.tqdm(os.listdir(positive_dir), ncols=10)]\n"
   ]
  },
  {
   "cell_type": "code",
   "execution_count": 4,
   "metadata": {},
   "outputs": [],
   "source": [
    "# declaration of variables\n",
    "MAX_NB_WORDS = 25000\n",
    "MAX_SEQUENCE_LENGTH = 200 # 500\n",
    "N_GLOVE_TOKENS = 400000\n",
    "EMBEDDING_DIM = 100\n",
    "epoch = 10"
   ]
  },
  {
   "cell_type": "markdown",
   "metadata": {},
   "source": [
    "#### Clean Text\n"
   ]
  },
  {
   "cell_type": "code",
   "execution_count": 5,
   "metadata": {},
   "outputs": [],
   "source": [
    "labels_index = { \"negative\": 0, \"positive\": 1 }\n",
    "\n",
    "labels = [0 for _ in range(len(negative_text))] + \\\n",
    "        [1 for _ in range(len(negative_text))]\n",
    " \n",
    "texts = negative_text + positive_text"
   ]
  },
  {
   "cell_type": "markdown",
   "metadata": {},
   "source": [
    "#### Tokenize\n"
   ]
  },
  {
   "cell_type": "code",
   "execution_count": 6,
   "metadata": {},
   "outputs": [
    {
     "name": "stderr",
     "output_type": "stream",
     "text": [
      "Using TensorFlow backend.\n"
     ]
    }
   ],
   "source": [
    "# Tokenizer\n",
    "from keras.preprocessing.text import Tokenizer\n",
    "\n",
    "tokenizer = Tokenizer(num_words=MAX_NB_WORDS)\n",
    "tokenizer.fit_on_texts(texts)\n",
    "sequences = tokenizer.texts_to_sequences(texts)\n",
    "word_index = tokenizer.word_index"
   ]
  },
  {
   "cell_type": "markdown",
   "metadata": {},
   "source": [
    "#### Split data to train and test set"
   ]
  },
  {
   "cell_type": "code",
   "execution_count": 7,
   "metadata": {},
   "outputs": [
    {
     "name": "stdout",
     "output_type": "stream",
     "text": [
      "data.shape = (25000, 200), labels.shape = (25000, 2)\n"
     ]
    }
   ],
   "source": [
    "# Data Padding\n",
    "data = pad_sequences(sequences, maxlen=MAX_SEQUENCE_LENGTH)\n",
    "labels = np_utils.to_categorical(np.asarray(labels))\n",
    "print (\"data.shape = {0}, labels.shape = {1}\".format(data.shape, labels.shape))\n",
    "\n",
    "x_train, x_test, y_train, y_test = train_test_split(data, labels)"
   ]
  },
  {
   "cell_type": "markdown",
   "metadata": {},
   "source": [
    "#### Model Design\n",
    "- Build Embeding Matrix"
   ]
  },
  {
   "cell_type": "code",
   "execution_count": 8,
   "metadata": {},
   "outputs": [
    {
     "name": "stderr",
     "output_type": "stream",
     "text": [
      "  1%|▊                                                                        | 4621/400000 [00:00<00:09, 40122.05it/s]"
     ]
    },
    {
     "name": "stdout",
     "output_type": "stream",
     "text": [
      "Loading word embeddings.\n"
     ]
    },
    {
     "name": "stderr",
     "output_type": "stream",
     "text": [
      "100%|███████████████████████████████████████████████████████████████████████| 400000/400000 [00:09<00:00, 41061.30it/s]\n"
     ]
    }
   ],
   "source": [
    "# Load word embeddings\n",
    "\n",
    "print(\"Loading word embeddings.\")\n",
    "embeddings_index = dict()\n",
    "\n",
    "with open(\"glove.6B.100d.txt\", encoding='utf8') as f:\n",
    "    for line in tqdm.tqdm(f, total=N_GLOVE_TOKENS):\n",
    "        values = line.split()\n",
    "        word, coefficients = values[0], np.asarray(values[1:], dtype=np.float32)\n",
    "        embeddings_index[word] = coefficients\n",
    "       "
   ]
  },
  {
   "cell_type": "code",
   "execution_count": 9,
   "metadata": {},
   "outputs": [
    {
     "name": "stdout",
     "output_type": "stream",
     "text": [
      "embedding_matrix.shape = (88583, 100)\n"
     ]
    }
   ],
   "source": [
    "embedding_matrix = np.zeros((len(word_index)+1, EMBEDDING_DIM))\n",
    "\n",
    "for word, i in word_index.items():\n",
    "        embedding_vector = embeddings_index.get(word)\n",
    "        if embedding_vector is not None:\n",
    "                embedding_matrix[i] = embedding_vector\n",
    "                \n",
    "print (\"embedding_matrix.shape = {0}\".format(embedding_matrix.shape))"
   ]
  },
  {
   "cell_type": "markdown",
   "metadata": {},
   "source": [
    "#### Create Embeding Layer\n"
   ]
  },
  {
   "cell_type": "code",
   "execution_count": 10,
   "metadata": {},
   "outputs": [
    {
     "name": "stdout",
     "output_type": "stream",
     "text": [
      "WARNING:tensorflow:From c:\\users\\sanmilee\\appdata\\local\\programs\\python\\python36\\lib\\site-packages\\tensorflow_core\\python\\ops\\resource_variable_ops.py:1630: calling BaseResourceVariable.__init__ (from tensorflow.python.ops.resource_variable_ops) with constraint is deprecated and will be removed in a future version.\n",
      "Instructions for updating:\n",
      "If using Keras pass *_constraint arguments to layers.\n",
      "(?, 200, 100)\n"
     ]
    }
   ],
   "source": [
    "# Embedding Layer\n",
    "\n",
    "embedding_layer = Embedding(len(word_index)+1,\n",
    "        EMBEDDING_DIM,\n",
    "        weights=[embedding_matrix],\n",
    "        input_length=MAX_SEQUENCE_LENGTH,\n",
    "        trainable=False)\n",
    "\n",
    "sequence_input = Input(shape=(MAX_SEQUENCE_LENGTH,), dtype=\"int32\")\n",
    "embedded_sequences = embedding_layer(sequence_input)\n",
    "\n",
    "print (embedded_sequences.shape )"
   ]
  },
  {
   "cell_type": "markdown",
   "metadata": {},
   "source": [
    "#### Model Network\n"
   ]
  },
  {
   "cell_type": "code",
   "execution_count": 12,
   "metadata": {},
   "outputs": [
    {
     "name": "stdout",
     "output_type": "stream",
     "text": [
      "Model: \"model_1\"\n",
      "_________________________________________________________________\n",
      "Layer (type)                 Output Shape              Param #   \n",
      "=================================================================\n",
      "input_1 (InputLayer)         (None, 200)               0         \n",
      "_________________________________________________________________\n",
      "embedding_1 (Embedding)      (None, 200, 100)          8858300   \n",
      "_________________________________________________________________\n",
      "conv1d_1 (Conv1D)            (None, 200, 8)            808       \n",
      "_________________________________________________________________\n",
      "dropout_1 (Dropout)          (None, 200, 8)            0         \n",
      "_________________________________________________________________\n",
      "batch_normalization_1 (Batch (None, 200, 8)            32        \n",
      "_________________________________________________________________\n",
      "bidirectional_1 (Bidirection (None, 16)                1088      \n",
      "_________________________________________________________________\n",
      "dense_1 (Dense)              (None, 8)                 136       \n",
      "_________________________________________________________________\n",
      "dense_2 (Dense)              (None, 2)                 18        \n",
      "=================================================================\n",
      "Total params: 8,860,382\n",
      "Trainable params: 2,066\n",
      "Non-trainable params: 8,858,316\n",
      "_________________________________________________________________\n",
      "None\n"
     ]
    }
   ],
   "source": [
    "# model design\n",
    "\n",
    "input_layer = Conv1D(8, 1, activation=\"relu\")(embedded_sequences)\n",
    "\n",
    "dropout_layer = Dropout(0.3)(input_layer)\n",
    "normalization_layer = BatchNormalization()(dropout_layer)\n",
    "lstm_layer = Bidirectional(LSTM(8, dropout=0.2, recurrent_dropout=0.2))(normalization_layer)\n",
    "dense_layer = Dense(8, activation=\"relu\")(lstm_layer)\n",
    "output_layer = Dense(len(labels_index), activation=\"softmax\")(dense_layer)\n",
    "\n",
    "model = Model(sequence_input, output_layer)\n",
    "\n",
    "print(model.summary())\n",
    "\n"
   ]
  },
  {
   "cell_type": "code",
   "execution_count": 13,
   "metadata": {},
   "outputs": [],
   "source": [
    "model.compile(loss=\"categorical_crossentropy\",\n",
    "              optimizer=\"adam\",\n",
    "              metrics=[\"acc\"])"
   ]
  },
  {
   "cell_type": "markdown",
   "metadata": {},
   "source": [
    "#### Train Model\n",
    "\n"
   ]
  },
  {
   "cell_type": "code",
   "execution_count": 14,
   "metadata": {},
   "outputs": [
    {
     "name": "stdout",
     "output_type": "stream",
     "text": [
      "WARNING:tensorflow:From c:\\users\\sanmilee\\appdata\\local\\programs\\python\\python36\\lib\\site-packages\\keras\\backend\\tensorflow_backend.py:422: The name tf.global_variables is deprecated. Please use tf.compat.v1.global_variables instead.\n",
      "\n",
      "Train on 18750 samples, validate on 6250 samples\n",
      "Epoch 1/10\n",
      "18750/18750 [==============================] - 75s 4ms/step - loss: 0.6925 - acc: 0.5193 - val_loss: 0.6821 - val_acc: 0.5810\n",
      "Epoch 2/10\n",
      "18750/18750 [==============================] - 78s 4ms/step - loss: 0.6659 - acc: 0.5911 - val_loss: 0.6056 - val_acc: 0.6864\n",
      "Epoch 3/10\n",
      "18750/18750 [==============================] - 80s 4ms/step - loss: 0.6089 - acc: 0.6729 - val_loss: 0.5344 - val_acc: 0.7462\n",
      "Epoch 4/10\n",
      "18750/18750 [==============================] - 75s 4ms/step - loss: 0.5752 - acc: 0.7080 - val_loss: 0.5418 - val_acc: 0.7210\n",
      "Epoch 5/10\n",
      "18750/18750 [==============================] - 77s 4ms/step - loss: 0.5616 - acc: 0.7137 - val_loss: 0.5060 - val_acc: 0.7630\n",
      "Epoch 6/10\n",
      "18750/18750 [==============================] - 75s 4ms/step - loss: 0.5483 - acc: 0.7295 - val_loss: 0.4767 - val_acc: 0.7811\n",
      "Epoch 7/10\n",
      "18750/18750 [==============================] - 73s 4ms/step - loss: 0.5368 - acc: 0.7365 - val_loss: 0.4878 - val_acc: 0.7752\n",
      "Epoch 8/10\n",
      "18750/18750 [==============================] - 73s 4ms/step - loss: 0.5315 - acc: 0.7431 - val_loss: 0.4822 - val_acc: 0.7774\n",
      "Epoch 9/10\n",
      "18750/18750 [==============================] - 74s 4ms/step - loss: 0.5207 - acc: 0.7509 - val_loss: 0.4628 - val_acc: 0.7907\n",
      "Epoch 10/10\n",
      "18750/18750 [==============================] - 72s 4ms/step - loss: 0.5157 - acc: 0.7518 - val_loss: 0.5207 - val_acc: 0.7410\n"
     ]
    }
   ],
   "source": [
    "history = model.fit(x_train, y_train, validation_data=(x_test, y_test), epochs=epoch, batch_size=64, verbose=1)"
   ]
  },
  {
   "cell_type": "markdown",
   "metadata": {},
   "source": [
    "#### Model Analysis\n",
    "- Evaluate Test Set\n"
   ]
  },
  {
   "cell_type": "code",
   "execution_count": 16,
   "metadata": {},
   "outputs": [
    {
     "name": "stdout",
     "output_type": "stream",
     "text": [
      "6250/6250 [==============================] - 19s 3ms/step\n",
      "\n",
      "Test Loss: 0.5207\n",
      "Accuracy: 74.10%\n"
     ]
    }
   ],
   "source": [
    "loss, acc = model.evaluate(x_test, y_test, verbose=1)\n",
    "\n",
    "print()\n",
    "print('Test Loss: {:.4f}'.format(loss))\n",
    "print('Accuracy: {:.2f}%'.format(acc * 100))"
   ]
  },
  {
   "cell_type": "markdown",
   "metadata": {},
   "source": [
    "#### Visual Display"
   ]
  },
  {
   "cell_type": "code",
   "execution_count": 17,
   "metadata": {},
   "outputs": [],
   "source": [
    "### training record\n",
    "# print(history.history.keys())  ### dict_keys(['val_loss', 'val_acc', 'loss', 'acc'])"
   ]
  },
  {
   "cell_type": "code",
   "execution_count": 18,
   "metadata": {},
   "outputs": [
    {
     "data": {
      "image/png": "[encoded data removed]",
      "text/plain": [
       "<Figure size 432x288 with 1 Axes>"
      ]
     },
     "metadata": {
      "needs_background": "light"
     },
     "output_type": "display_data"
    }
   ],
   "source": [
    "# summarize history for accuracy\n",
    "plt.plot(history.history['acc'])\n",
    "plt.plot(history.history['val_acc'])\n",
    "plt.title('model accuracy')\n",
    "plt.ylabel('accuracy')\n",
    "plt.xlabel('epoch')\n",
    "plt.legend(['train', 'test'], loc='upper left')\n",
    "plt.show()"
   ]
  },
  {
   "cell_type": "code",
   "execution_count": 19,
   "metadata": {},
   "outputs": [
    {
     "data": {
      "image/png": "[encoded data removed]",
      "text/plain": [
       "<Figure size 432x288 with 1 Axes>"
      ]
     },
     "metadata": {
      "needs_background": "light"
     },
     "output_type": "display_data"
    }
   ],
   "source": [
    "# summarize history for loss\n",
    "plt.plot(history.history['loss'])\n",
    "plt.plot(history.history['val_loss'])\n",
    "plt.title('model loss')\n",
    "plt.ylabel('loss')\n",
    "plt.xlabel('epoch')\n",
    "plt.legend(['train', 'test'], loc='upper left')\n",
    "plt.show()"
   ]
  },
  {
   "cell_type": "code",
   "execution_count": 22,
   "metadata": {},
   "outputs": [],
   "source": [
    "predictions = model.predict(x_test)\n"
   ]
  },
  {
   "cell_type": "code",
   "execution_count": 27,
   "metadata": {},
   "outputs": [],
   "source": [
    "matrix = confusion_matrix(y_test.argmax(axis=1), np.around(predictions, decimals=0).argmax(axis=1))"
   ]
  },
  {
   "cell_type": "code",
   "execution_count": 33,
   "metadata": {},
   "outputs": [
    {
     "name": "stderr",
     "output_type": "stream",
     "text": [
      "c:\\users\\sanmilee\\appdata\\local\\programs\\python\\python36\\lib\\site-packages\\ipykernel_launcher.py:3: FutureWarning: Support for multi-dimensional indexing (e.g. `obj[:, None]`) is deprecated and will be removed in a future version.  Convert to a numpy array before indexing instead.\n",
      "  This is separate from the ipykernel package so we can avoid doing imports until\n"
     ]
    },
    {
     "data": {
      "text/plain": [
       "<AxesSubplot:>"
      ]
     },
     "execution_count": 33,
     "metadata": {},
     "output_type": "execute_result"
    },
    {
     "data": {
      "image/png": "[encoded data removed]",
      "text/plain": [
       "<Figure size 504x504 with 2 Axes>"
      ]
     },
     "metadata": {
      "needs_background": "light"
     },
     "output_type": "display_data"
    }
   ],
   "source": [
    "conf_matrix = pd.DataFrame(matrix, index = ['Negative','Positive'],columns = ['Negative','Positive'])\n",
    "\n",
    "conf_matrix = conf_matrix.astype('float') / conf_matrix.sum(axis=1)[:, np.newaxis]\n",
    "plt.figure(figsize = (7,7))\n",
    "sns.heatmap(conf_matrix, annot=True, annot_kws={\"size\": 15})"
   ]
  },
  {
   "cell_type": "markdown",
   "metadata": {},
   "source": [
    "#### Sample reviews based on model"
   ]
  },
  {
   "cell_type": "code",
   "execution_count": 34,
   "metadata": {},
   "outputs": [],
   "source": [
    "sentiment = ['Negative','Positive']"
   ]
  },
  {
   "cell_type": "code",
   "execution_count": 36,
   "metadata": {},
   "outputs": [
    {
     "data": {
      "text/plain": [
       "'Negative'"
      ]
     },
     "execution_count": 36,
     "metadata": {},
     "output_type": "execute_result"
    }
   ],
   "source": [
    "sequence = tokenizer.texts_to_sequences(['i hate youtube ads, they are annoying'])\n",
    "test = pad_sequences(sequence, maxlen=MAX_SEQUENCE_LENGTH)\n",
    "sentiment[np.around(model.predict(test), decimals=0).argmax(axis=1)[0]]"
   ]
  },
  {
   "cell_type": "code",
   "execution_count": 37,
   "metadata": {},
   "outputs": [
    {
     "data": {
      "text/plain": [
       "'Positive'"
      ]
     },
     "execution_count": 37,
     "metadata": {},
     "output_type": "execute_result"
    }
   ],
   "source": [
    "sequence = tokenizer.texts_to_sequences(['this data science article is the best ever'])\n",
    "test = pad_sequences(sequence, maxlen=MAX_SEQUENCE_LENGTH)\n",
    "sentiment[np.around(model.predict(test), decimals=0).argmax(axis=1)[0]]\n"
   ]
  },
  {
   "cell_type": "code",
   "execution_count": 39,
   "metadata": {},
   "outputs": [
    {
     "data": {
      "text/plain": [
       "'Negative'"
      ]
     },
     "execution_count": 39,
     "metadata": {},
     "output_type": "execute_result"
    }
   ],
   "source": [
    "sequence = tokenizer.texts_to_sequences(['Python is neither bad nor good, just there'])\n",
    "test = pad_sequences(sequence, maxlen=MAX_SEQUENCE_LENGTH)\n",
    "sentiment[np.around(model.predict(test), decimals=0).argmax(axis=1)[0]]\n"
   ]
  },
  {
   "cell_type": "code",
   "execution_count": null,
   "metadata": {},
   "outputs": [],
   "source": []
  },
  {
   "cell_type": "code",
   "execution_count": null,
   "metadata": {},
   "outputs": [],
   "source": []
  }
 ],
 "metadata": {
  "kernelspec": {
   "display_name": "Python 3",
   "language": "python",
   "name": "python3"
  },
  "language_info": {
   "codemirror_mode": {
    "name": "ipython",
    "version": 3
   },
   "file_extension": ".py",
   "mimetype": "text/x-python",
   "name": "python",
   "nbconvert_exporter": "python",
   "pygments_lexer": "ipython3",
   "version": "3.6.7"
  }
 },
 "nbformat": 4,
 "nbformat_minor": 4
}
