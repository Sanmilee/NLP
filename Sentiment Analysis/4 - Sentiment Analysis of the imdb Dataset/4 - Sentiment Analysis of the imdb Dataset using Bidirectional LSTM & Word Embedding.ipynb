{
 "cells": [
  {
   "cell_type": "markdown",
   "metadata": {},
   "source": [
    "### Sentiment Analysis of the imdb Dataset using Bidirectional LSTM\n",
    "\n",
    "#### Load Data\n",
    "- Preprocess Text\n",
    "- Clean Text\n",
    "- Tokenize\n",
    "- Split data to train and test set\n",
    "\n",
    "#### Model Design\n",
    "- Build Embeding Matrix\n",
    "- Create Embeding Layer\n",
    "- Model Network\n",
    "- Train Model\n",
    "\n",
    "#### Model Analysis\n",
    "- Evalute Train Set\n",
    "- Evaluate Test Set\n",
    "- Visual Display\n",
    "\n",
    "#### Sample reviews based on model"
   ]
  },
  {
   "cell_type": "code",
   "execution_count": 1,
   "metadata": {},
   "outputs": [],
   "source": [
    "import numpy\n",
    "import tqdm\n",
    "import os\n",
    "import codecs\n",
    "import pandas as pd\n",
    "import seaborn as sns\n",
    "\n",
    "from keras.models import Model\n",
    "from keras.layers import Conv1D, Dense, LSTM, Dropout, BatchNormalization, Bidirectional\n",
    "from keras.layers import Embedding, Input\n",
    "import matplotlib.pyplot as plt\n",
    "from sklearn.metrics import confusion_matrix\n",
    "\n",
    "from sklearn.model_selection import train_test_split\n",
    "from keras.preprocessing.sequence import pad_sequences\n",
    "from keras.utils import np_utils\n",
    "import numpy as np"
   ]
  },
  {
   "cell_type": "markdown",
   "metadata": {},
   "source": [
    "#### Load Data\n"
   ]
  },
  {
   "cell_type": "code",
   "execution_count": 2,
   "metadata": {},
   "outputs": [],
   "source": [
    "positive_dir = \"aclImdb/train/pos\"\n",
    "negative_dir = \"aclImdb/train/neg\""
   ]
  },
  {
   "cell_type": "markdown",
   "metadata": {},
   "source": [
    "#### Preprocess Text\n"
   ]
  },
  {
   "cell_type": "code",
   "execution_count": 3,
   "metadata": {},
   "outputs": [
    {
     "name": "stderr",
     "output_type": "stream",
     "text": [
      "  0%| | 32"
     ]
    },
    {
     "name": "stdout",
     "output_type": "stream",
     "text": [
      "Reading negative reviews.\n"
     ]
    },
    {
     "name": "stderr",
     "output_type": "stream",
     "text": [
      "100%|█| 12\n",
      "  0%| | 37"
     ]
    },
    {
     "name": "stdout",
     "output_type": "stream",
     "text": [
      "Reading positive reviews.\n"
     ]
    },
    {
     "name": "stderr",
     "output_type": "stream",
     "text": [
      "100%|█| 12\n"
     ]
    }
   ],
   "source": [
    "def read_text(filename):\n",
    "    with codecs.open(filename, encoding='utf8') as f:\n",
    "            return f.read().lower()\n",
    "\n",
    "        \n",
    "print (\"Reading negative reviews.\")\n",
    "negative_text = [read_text(os.path.join(negative_dir, filename))\n",
    "        for filename in tqdm.tqdm(os.listdir(negative_dir), ncols=10)]\n",
    "        \n",
    "    \n",
    "print (\"Reading positive reviews.\")\n",
    "positive_text = [read_text(os.path.join(positive_dir, filename))\n",
    "        for filename in tqdm.tqdm(os.listdir(positive_dir), ncols=10)]\n"
   ]
  },
  {
   "cell_type": "code",
   "execution_count": 4,
   "metadata": {},
   "outputs": [],
   "source": [
    "# declaration of variables\n",
    "MAX_NB_WORDS = 25000\n",
    "MAX_SEQUENCE_LENGTH = 200 # 500\n",
    "N_GLOVE_TOKENS = 400000\n",
    "EMBEDDING_DIM = 100\n",
    "epoch = 10"
   ]
  },
  {
   "cell_type": "markdown",
   "metadata": {},
   "source": [
    "#### Clean Text\n"
   ]
  },
  {
   "cell_type": "code",
   "execution_count": 5,
   "metadata": {},
   "outputs": [],
   "source": [
    "labels_index = { \"negative\": 0, \"positive\": 1 }\n",
    "\n",
    "labels = [0 for _ in range(len(negative_text))] + \\\n",
    "        [1 for _ in range(len(negative_text))]\n",
    " \n",
    "texts = negative_text + positive_text"
   ]
  },
  {
   "cell_type": "markdown",
   "metadata": {},
   "source": [
    "#### Tokenize\n"
   ]
  },
  {
   "cell_type": "code",
   "execution_count": 6,
   "metadata": {},
   "outputs": [],
   "source": [
    "# Tokenizer\n",
    "from keras.preprocessing.text import Tokenizer\n",
    "\n",
    "tokenizer = Tokenizer(num_words=MAX_NB_WORDS)\n",
    "tokenizer.fit_on_texts(texts)\n",
    "sequences = tokenizer.texts_to_sequences(texts)\n",
    "word_index = tokenizer.word_index"
   ]
  },
  {
   "cell_type": "markdown",
   "metadata": {},
   "source": [
    "#### Split data to train and test set"
   ]
  },
  {
   "cell_type": "code",
   "execution_count": 7,
   "metadata": {},
   "outputs": [
    {
     "name": "stdout",
     "output_type": "stream",
     "text": [
      "data.shape = (25000, 200), labels.shape = (25000, 2)\n"
     ]
    }
   ],
   "source": [
    "# Data Padding\n",
    "data = pad_sequences(sequences, maxlen=MAX_SEQUENCE_LENGTH)\n",
    "labels = np_utils.to_categorical(np.asarray(labels))\n",
    "print (\"data.shape = {0}, labels.shape = {1}\".format(data.shape, labels.shape))\n",
    "\n",
    "x_train, x_test, y_train, y_test = train_test_split(data, labels)"
   ]
  },
  {
   "cell_type": "markdown",
   "metadata": {},
   "source": [
    "#### Model Design\n",
    "- Build Embeding Matrix"
   ]
  },
  {
   "cell_type": "code",
   "execution_count": 8,
   "metadata": {},
   "outputs": [
    {
     "name": "stderr",
     "output_type": "stream",
     "text": [
      "  1%|▋                                                                        | 3817/400000 [00:00<00:10, 37526.48it/s]"
     ]
    },
    {
     "name": "stdout",
     "output_type": "stream",
     "text": [
      "Loading word embeddings.\n"
     ]
    },
    {
     "name": "stderr",
     "output_type": "stream",
     "text": [
      "100%|███████████████████████████████████████████████████████████████████████| 400000/400000 [00:10<00:00, 36813.49it/s]\n"
     ]
    }
   ],
   "source": [
    "# Load word embeddings\n",
    "\n",
    "print(\"Loading word embeddings.\")\n",
    "embeddings_index = dict()\n",
    "\n",
    "with open(\"glove.6B.100d.txt\", encoding='utf8') as f:\n",
    "    for line in tqdm.tqdm(f, total=N_GLOVE_TOKENS):\n",
    "        values = line.split()\n",
    "        word, coefficients = values[0], np.asarray(values[1:], dtype=np.float32)\n",
    "        embeddings_index[word] = coefficients\n",
    "       "
   ]
  },
  {
   "cell_type": "code",
   "execution_count": 9,
   "metadata": {},
   "outputs": [
    {
     "name": "stdout",
     "output_type": "stream",
     "text": [
      "embedding_matrix.shape = (88583, 100)\n"
     ]
    }
   ],
   "source": [
    "embedding_matrix = np.zeros((len(word_index)+1, EMBEDDING_DIM))\n",
    "\n",
    "for word, i in word_index.items():\n",
    "        embedding_vector = embeddings_index.get(word)\n",
    "        if embedding_vector is not None:\n",
    "                embedding_matrix[i] = embedding_vector\n",
    "                \n",
    "print (\"embedding_matrix.shape = {0}\".format(embedding_matrix.shape))"
   ]
  },
  {
   "cell_type": "markdown",
   "metadata": {},
   "source": [
    "#### Model Network\n"
   ]
  },
  {
   "cell_type": "code",
   "execution_count": 10,
   "metadata": {},
   "outputs": [
    {
     "name": "stdout",
     "output_type": "stream",
     "text": [
      "WARNING:tensorflow:Layer lstm will not use cuDNN kernel since it doesn't meet the cuDNN kernel criteria. It will use generic GPU kernel as fallback when running on GPU\n",
      "WARNING:tensorflow:Layer lstm will not use cuDNN kernel since it doesn't meet the cuDNN kernel criteria. It will use generic GPU kernel as fallback when running on GPU\n",
      "WARNING:tensorflow:Layer lstm will not use cuDNN kernel since it doesn't meet the cuDNN kernel criteria. It will use generic GPU kernel as fallback when running on GPU\n",
      "Model: \"model\"\n",
      "_________________________________________________________________\n",
      "Layer (type)                 Output Shape              Param #   \n",
      "=================================================================\n",
      "input_1 (InputLayer)         [(None, 200)]             0         \n",
      "_________________________________________________________________\n",
      "embedding (Embedding)        (None, 200, 100)          8858300   \n",
      "_________________________________________________________________\n",
      "bidirectional (Bidirectional (None, 128)               84480     \n",
      "_________________________________________________________________\n",
      "dense (Dense)                (None, 2)                 258       \n",
      "=================================================================\n",
      "Total params: 8,943,038\n",
      "Trainable params: 84,738\n",
      "Non-trainable params: 8,858,300\n",
      "_________________________________________________________________\n"
     ]
    }
   ],
   "source": [
    "# sequence model\n",
    "inputs = Input(shape=(MAX_SEQUENCE_LENGTH,))\n",
    "emb_layer = Embedding(len(word_index)+1, EMBEDDING_DIM, weights=[embedding_matrix], trainable=False)(inputs)\n",
    "lstm_layer = Bidirectional(LSTM(64, dropout=0.2, recurrent_dropout=0.2))(emb_layer)\n",
    "output_layer = Dense(len(labels_index), activation=\"softmax\")(lstm_layer)\n",
    "model = Model(inputs, output_layer)\n",
    "\n",
    "\n",
    "model.summary()"
   ]
  },
  {
   "cell_type": "code",
   "execution_count": 11,
   "metadata": {},
   "outputs": [],
   "source": [
    "model.compile(loss=\"categorical_crossentropy\",\n",
    "              optimizer=\"adam\",\n",
    "              metrics=[\"acc\"])"
   ]
  },
  {
   "cell_type": "markdown",
   "metadata": {},
   "source": [
    "#### Train Model\n",
    "\n"
   ]
  },
  {
   "cell_type": "code",
   "execution_count": 12,
   "metadata": {},
   "outputs": [
    {
     "name": "stdout",
     "output_type": "stream",
     "text": [
      "Epoch 1/7\n",
      "293/293 [==============================] - 827s 3s/step - loss: 0.6346 - acc: 0.6183 - val_loss: 0.5047 - val_acc: 0.7582\n",
      "Epoch 2/7\n",
      "293/293 [==============================] - 818s 3s/step - loss: 0.4936 - acc: 0.7687 - val_loss: 0.4256 - val_acc: 0.8118\n",
      "Epoch 3/7\n",
      "293/293 [==============================] - 818s 3s/step - loss: 0.4237 - acc: 0.8078 - val_loss: 0.3825 - val_acc: 0.8363\n",
      "Epoch 4/7\n",
      "293/293 [==============================] - 805s 3s/step - loss: 0.3925 - acc: 0.8250 - val_loss: 0.3509 - val_acc: 0.8493\n",
      "Epoch 5/7\n",
      "293/293 [==============================] - 812s 3s/step - loss: 0.3555 - acc: 0.8440 - val_loss: 0.3323 - val_acc: 0.8581\n",
      "Epoch 6/7\n",
      "293/293 [==============================] - 825s 3s/step - loss: 0.3366 - acc: 0.8516 - val_loss: 0.3156 - val_acc: 0.8664\n",
      "Epoch 7/7\n",
      "293/293 [==============================] - 836s 3s/step - loss: 0.3184 - acc: 0.8627 - val_loss: 0.3122 - val_acc: 0.8709\n"
     ]
    }
   ],
   "source": [
    "history = model.fit(x_train, y_train, validation_data=(x_test, y_test), epochs=7, batch_size=64, verbose=1)"
   ]
  },
  {
   "cell_type": "markdown",
   "metadata": {},
   "source": [
    "#### Model Analysis\n",
    "- Evaluate Test Set\n"
   ]
  },
  {
   "cell_type": "code",
   "execution_count": 13,
   "metadata": {},
   "outputs": [
    {
     "name": "stdout",
     "output_type": "stream",
     "text": [
      "196/196 [==============================] - 45s 229ms/step - loss: 0.3122 - acc: 0.8709\n",
      "\n",
      "Test Loss: 0.3122\n",
      "Accuracy: 87.09%\n"
     ]
    }
   ],
   "source": [
    "loss, acc = model.evaluate(x_test, y_test, verbose=1)\n",
    "\n",
    "print()\n",
    "print('Test Loss: {:.4f}'.format(loss))\n",
    "print('Accuracy: {:.2f}%'.format(acc * 100))"
   ]
  },
  {
   "cell_type": "markdown",
   "metadata": {},
   "source": [
    "#### Visual Display"
   ]
  },
  {
   "cell_type": "code",
   "execution_count": 14,
   "metadata": {},
   "outputs": [],
   "source": [
    "### training record\n",
    "# print(history.history.keys())  ### dict_keys(['val_loss', 'val_acc', 'loss', 'acc'])"
   ]
  },
  {
   "cell_type": "code",
   "execution_count": 15,
   "metadata": {},
   "outputs": [
    {
     "data": {
      "image/png": "[encoded data removed]",
      "text/plain": [
       "<Figure size 432x288 with 1 Axes>"
      ]
     },
     "metadata": {
      "needs_background": "light"
     },
     "output_type": "display_data"
    }
   ],
   "source": [
    "# summarize history for accuracy\n",
    "plt.plot(history.history['acc'])\n",
    "plt.plot(history.history['val_acc'])\n",
    "plt.title('model accuracy')\n",
    "plt.ylabel('accuracy')\n",
    "plt.xlabel('epoch')\n",
    "plt.legend(['train', 'test'], loc='upper left')\n",
    "plt.show()"
   ]
  },
  {
   "cell_type": "code",
   "execution_count": 16,
   "metadata": {},
   "outputs": [
    {
     "data": {
      "image/png": "[encoded data removed]",
      "text/plain": [
       "<Figure size 432x288 with 1 Axes>"
      ]
     },
     "metadata": {
      "needs_background": "light"
     },
     "output_type": "display_data"
    }
   ],
   "source": [
    "# summarize history for loss\n",
    "plt.plot(history.history['loss'])\n",
    "plt.plot(history.history['val_loss'])\n",
    "plt.title('model loss')\n",
    "plt.ylabel('loss')\n",
    "plt.xlabel('epoch')\n",
    "plt.legend(['train', 'test'], loc='upper left')\n",
    "plt.show()"
   ]
  },
  {
   "cell_type": "markdown",
   "metadata": {},
   "source": [
    "#### Sample reviews based on model"
   ]
  },
  {
   "cell_type": "code",
   "execution_count": 20,
   "metadata": {},
   "outputs": [],
   "source": [
    "sentiment = ['Negative','Positive']"
   ]
  },
  {
   "cell_type": "code",
   "execution_count": 22,
   "metadata": {},
   "outputs": [
    {
     "data": {
      "text/plain": [
       "'Positive'"
      ]
     },
     "execution_count": 22,
     "metadata": {},
     "output_type": "execute_result"
    }
   ],
   "source": [
    "sequence = tokenizer.texts_to_sequences(['this data science article is the best ever'])\n",
    "test = pad_sequences(sequence, maxlen=MAX_SEQUENCE_LENGTH)\n",
    "sentiment[np.around(model.predict(test), decimals=0).argmax(axis=1)[0]]\n"
   ]
  },
  {
   "cell_type": "code",
   "execution_count": 23,
   "metadata": {},
   "outputs": [
    {
     "data": {
      "text/plain": [
       "'Negative'"
      ]
     },
     "execution_count": 23,
     "metadata": {},
     "output_type": "execute_result"
    }
   ],
   "source": [
    "sequence = tokenizer.texts_to_sequences(['Python is neither bad nor good, just there'])\n",
    "test = pad_sequences(sequence, maxlen=MAX_SEQUENCE_LENGTH)\n",
    "sentiment[np.around(model.predict(test), decimals=0).argmax(axis=1)[0]]\n"
   ]
  },
  {
   "cell_type": "code",
   "execution_count": null,
   "metadata": {},
   "outputs": [],
   "source": []
  },
  {
   "cell_type": "code",
   "execution_count": null,
   "metadata": {},
   "outputs": [],
   "source": []
  }
 ],
 "metadata": {
  "kernelspec": {
   "display_name": "Python 3 (ipykernel)",
   "language": "python",
   "name": "python3"
  },
  "language_info": {
   "codemirror_mode": {
    "name": "ipython",
    "version": 3
   },
   "file_extension": ".py",
   "mimetype": "text/x-python",
   "name": "python",
   "nbconvert_exporter": "python",
   "pygments_lexer": "ipython3",
   "version": "3.8.0"
  }
 },
 "nbformat": 4,
 "nbformat_minor": 4
}
