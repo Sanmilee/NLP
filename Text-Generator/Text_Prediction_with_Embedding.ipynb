{
 "cells": [
  {
   "cell_type": "code",
   "execution_count": 1,
   "id": "c455d165",
   "metadata": {},
   "outputs": [],
   "source": [
    "import numpy as np \n",
    "import tensorflow as tf\n",
    "\n",
    "from tensorflow.keras.optimizers import Adam\n",
    "from tensorflow.keras.models import Sequential\n",
    "from tensorflow.keras.preprocessing.text import Tokenizer\n",
    "from tensorflow.keras.preprocessing.sequence import pad_sequences\n",
    "from tensorflow.keras.layers import Embedding, LSTM, Dense, Bidirectional"
   ]
  },
  {
   "cell_type": "code",
   "execution_count": 2,
   "id": "2491dd4d",
   "metadata": {},
   "outputs": [],
   "source": [
    "# https://storage.googleapis.com/laurencemoroney-blog.appspot.com/irish-lyrics-eof.txt\n",
    "data = open('irish-lyrics-eof.txt').read()\n",
    "\n",
    "corpus = data.lower().split(\"\\n\")"
   ]
  },
  {
   "cell_type": "code",
   "execution_count": 3,
   "id": "a72c50d1",
   "metadata": {},
   "outputs": [],
   "source": [
    "tokenizer = Tokenizer()\n",
    "tokenizer.fit_on_texts(corpus)"
   ]
  },
  {
   "cell_type": "code",
   "execution_count": 4,
   "id": "eab4ff37",
   "metadata": {},
   "outputs": [
    {
     "name": "stdout",
     "output_type": "stream",
     "text": [
      "8\n",
      "1\n",
      "71\n",
      "6\n"
     ]
    }
   ],
   "source": [
    "print(tokenizer.word_index['in'])\n",
    "print(tokenizer.word_index['the'])\n",
    "print(tokenizer.word_index['town'])\n",
    "print(tokenizer.word_index['of'])"
   ]
  },
  {
   "cell_type": "code",
   "execution_count": 5,
   "id": "cc51e15a",
   "metadata": {},
   "outputs": [],
   "source": [
    "word_index = tokenizer.word_index\n",
    "\n",
    "total_words = len(word_index) + 1   # 2690"
   ]
  },
  {
   "cell_type": "code",
   "execution_count": 6,
   "id": "d06d0e61",
   "metadata": {},
   "outputs": [],
   "source": [
    "input_sequences = []\n",
    "\n",
    "for line in corpus:\n",
    "\ttoken_list = tokenizer.texts_to_sequences([line])[0]\n",
    "\tfor i in range(1, len(token_list)):\n",
    "\t\tn_gram_sequence = token_list[:i+1]\n",
    "\t\tinput_sequences.append(n_gram_sequence)"
   ]
  },
  {
   "cell_type": "code",
   "execution_count": 7,
   "id": "e4bfaf73",
   "metadata": {},
   "outputs": [
    {
     "data": {
      "text/plain": [
       "[[51, 12],\n",
       " [51, 12, 96],\n",
       " [51, 12, 96, 1217],\n",
       " [51, 12, 96, 1217, 48],\n",
       " [51, 12, 96, 1217, 48, 2]]"
      ]
     },
     "execution_count": 7,
     "metadata": {},
     "output_type": "execute_result"
    }
   ],
   "source": [
    "input_sequences[:5]"
   ]
  },
  {
   "cell_type": "code",
   "execution_count": 8,
   "id": "1427071c",
   "metadata": {},
   "outputs": [
    {
     "data": {
      "text/plain": [
       "16"
      ]
     },
     "execution_count": 8,
     "metadata": {},
     "output_type": "execute_result"
    }
   ],
   "source": [
    "# max length\n",
    "max_sequence_len = max([len(x) for x in input_sequences])     # 16\n",
    "\n",
    "max_sequence_len"
   ]
  },
  {
   "cell_type": "code",
   "execution_count": 9,
   "id": "3ee0f62f",
   "metadata": {},
   "outputs": [],
   "source": [
    "# pad sequences \n",
    "\n",
    "input_sequences = np.array(pad_sequences(input_sequences, maxlen=max_sequence_len, padding='pre'))"
   ]
  },
  {
   "cell_type": "code",
   "execution_count": 10,
   "id": "eac6efc4",
   "metadata": {},
   "outputs": [
    {
     "data": {
      "text/plain": [
       "array([ 0,  0,  0,  0,  0,  0,  0,  0,  0,  0,  0,  0,  0,  0, 51, 12])"
      ]
     },
     "execution_count": 10,
     "metadata": {},
     "output_type": "execute_result"
    }
   ],
   "source": [
    "input_sequences[0]"
   ]
  },
  {
   "cell_type": "code",
   "execution_count": 11,
   "id": "8188365d",
   "metadata": {},
   "outputs": [],
   "source": [
    "# create predictors and label\n",
    "\n",
    "xs, labels = input_sequences[:,:-1], input_sequences[:,-1]"
   ]
  },
  {
   "cell_type": "code",
   "execution_count": 12,
   "id": "3ebf3d36",
   "metadata": {},
   "outputs": [],
   "source": [
    "# categorize labels\n",
    "\n",
    "ys = tf.keras.utils.to_categorical(labels, num_classes=total_words)"
   ]
  },
  {
   "cell_type": "code",
   "execution_count": 13,
   "id": "9a6466f4",
   "metadata": {},
   "outputs": [
    {
     "name": "stdout",
     "output_type": "stream",
     "text": [
      "[   0    0    0    0    0    0    0    0    0    0    0   51   12   96\n",
      " 1217]\n",
      "\n",
      "[0. 0. 0. ... 0. 0. 0.]\n"
     ]
    }
   ],
   "source": [
    "print(xs[3])\n",
    "print()\n",
    "print(ys[3])"
   ]
  },
  {
   "cell_type": "code",
   "execution_count": 14,
   "id": "28c725b2",
   "metadata": {},
   "outputs": [],
   "source": [
    "embedding_dim = 100\n",
    "embeddings_index = {}\n",
    "\n",
    "with open('glove.6B.100d.txt', encoding=\"utf8\") as f:\n",
    "    for line in f:\n",
    "        values = line.split();\n",
    "        word = values[0];\n",
    "        coefs = np.asarray(values[1:], dtype='float32');\n",
    "        embeddings_index[word] = coefs;"
   ]
  },
  {
   "cell_type": "code",
   "execution_count": 15,
   "id": "c53de4a7",
   "metadata": {},
   "outputs": [],
   "source": [
    "embeddings_matrix = np.zeros((total_words, embedding_dim))   # (138497, 100)\n",
    "\n",
    "for word, i in word_index.items():\n",
    "    embedding_vector = embeddings_index.get(word);\n",
    "    if embedding_vector is not None:\n",
    "        embeddings_matrix[i] = embedding_vector;"
   ]
  },
  {
   "cell_type": "code",
   "execution_count": 16,
   "id": "a4ec5c97",
   "metadata": {},
   "outputs": [
    {
     "name": "stdout",
     "output_type": "stream",
     "text": [
      "2690\n"
     ]
    }
   ],
   "source": [
    "print(len(embeddings_matrix))"
   ]
  },
  {
   "cell_type": "markdown",
   "id": "f8723027",
   "metadata": {},
   "source": [
    "#### Model"
   ]
  },
  {
   "cell_type": "code",
   "execution_count": 17,
   "id": "de29c8ed",
   "metadata": {},
   "outputs": [],
   "source": [
    "tf.keras.backend.clear_session()"
   ]
  },
  {
   "cell_type": "code",
   "execution_count": 18,
   "id": "1cd4df4b",
   "metadata": {},
   "outputs": [
    {
     "name": "stdout",
     "output_type": "stream",
     "text": [
      "Model: \"sequential\"\n",
      "_________________________________________________________________\n",
      "Layer (type)                 Output Shape              Param #   \n",
      "=================================================================\n",
      "embedding (Embedding)        (None, 16, 100)           269000    \n",
      "_________________________________________________________________\n",
      "bidirectional (Bidirectional (None, 128)               84480     \n",
      "_________________________________________________________________\n",
      "dense (Dense)                (None, 100)               12900     \n",
      "_________________________________________________________________\n",
      "dense_1 (Dense)              (None, 2690)              271690    \n",
      "=================================================================\n",
      "Total params: 638,070\n",
      "Trainable params: 369,070\n",
      "Non-trainable params: 269,000\n",
      "_________________________________________________________________\n"
     ]
    }
   ],
   "source": [
    "model = tf.keras.Sequential([\n",
    "    tf.keras.layers.Embedding(total_words, embedding_dim, input_length=max_sequence_len, weights=[embeddings_matrix], trainable=False),\n",
    "    tf.keras.layers.Bidirectional(tf.keras.layers.LSTM(64)),\n",
    "    tf.keras.layers.Dense(100, activation='relu'),\n",
    "    tf.keras.layers.Dense(total_words, activation='softmax')\n",
    "])\n",
    "\n",
    "\n",
    "model.summary()"
   ]
  },
  {
   "cell_type": "code",
   "execution_count": 19,
   "id": "0faf086f",
   "metadata": {},
   "outputs": [],
   "source": [
    "adam = Adam(lr=0.01)\n",
    "\n",
    "model.compile(loss='categorical_crossentropy', optimizer=adam, metrics=['accuracy'])"
   ]
  },
  {
   "cell_type": "code",
   "execution_count": 20,
   "id": "e6e5f1e4",
   "metadata": {},
   "outputs": [
    {
     "name": "stdout",
     "output_type": "stream",
     "text": [
      "Epoch 1/100\n",
      "WARNING:tensorflow:Model was constructed with shape (None, 16) for input KerasTensor(type_spec=TensorSpec(shape=(None, 16), dtype=tf.float32, name='embedding_input'), name='embedding_input', description=\"created by layer 'embedding_input'\"), but it was called on an input with incompatible shape (None, 15).\n",
      "WARNING:tensorflow:Model was constructed with shape (None, 16) for input KerasTensor(type_spec=TensorSpec(shape=(None, 16), dtype=tf.float32, name='embedding_input'), name='embedding_input', description=\"created by layer 'embedding_input'\"), but it was called on an input with incompatible shape (None, 15).\n",
      "377/377 [==============================] - 5s 6ms/step - loss: 6.8449 - accuracy: 0.0629\n",
      "Epoch 2/100\n",
      "377/377 [==============================] - 2s 6ms/step - loss: 6.2550 - accuracy: 0.0738\n",
      "Epoch 3/100\n",
      "377/377 [==============================] - 2s 6ms/step - loss: 6.0088 - accuracy: 0.0874\n",
      "Epoch 4/100\n",
      "377/377 [==============================] - 2s 7ms/step - loss: 5.7749 - accuracy: 0.1007\n",
      "Epoch 5/100\n",
      "377/377 [==============================] - 2s 6ms/step - loss: 5.5191 - accuracy: 0.1110\n",
      "Epoch 6/100\n",
      "377/377 [==============================] - 2s 6ms/step - loss: 5.3201 - accuracy: 0.1199\n",
      "Epoch 7/100\n",
      "377/377 [==============================] - 3s 7ms/step - loss: 5.1071 - accuracy: 0.1292\n",
      "Epoch 8/100\n",
      "377/377 [==============================] - 2s 6ms/step - loss: 4.9167 - accuracy: 0.1433\n",
      "Epoch 9/100\n",
      "377/377 [==============================] - 2s 6ms/step - loss: 4.7161 - accuracy: 0.1622\n",
      "Epoch 10/100\n",
      "377/377 [==============================] - 2s 6ms/step - loss: 4.6073 - accuracy: 0.1645\n",
      "Epoch 11/100\n",
      "377/377 [==============================] - 2s 7ms/step - loss: 4.4369 - accuracy: 0.1768\n",
      "Epoch 12/100\n",
      "377/377 [==============================] - 3s 7ms/step - loss: 4.3006 - accuracy: 0.1845\n",
      "Epoch 13/100\n",
      "377/377 [==============================] - 2s 7ms/step - loss: 4.2032 - accuracy: 0.1968\n",
      "Epoch 14/100\n",
      "377/377 [==============================] - 3s 7ms/step - loss: 4.0159 - accuracy: 0.2134\n",
      "Epoch 15/100\n",
      "377/377 [==============================] - 3s 7ms/step - loss: 3.8913 - accuracy: 0.2359\n",
      "Epoch 16/100\n",
      "377/377 [==============================] - 3s 7ms/step - loss: 3.7516 - accuracy: 0.2497\n",
      "Epoch 17/100\n",
      "377/377 [==============================] - 3s 7ms/step - loss: 3.6907 - accuracy: 0.2547\n",
      "Epoch 18/100\n",
      "377/377 [==============================] - 3s 7ms/step - loss: 3.6448 - accuracy: 0.2580\n",
      "Epoch 19/100\n",
      "377/377 [==============================] - 2s 7ms/step - loss: 3.5146 - accuracy: 0.2750\n",
      "Epoch 20/100\n",
      "377/377 [==============================] - 2s 6ms/step - loss: 3.3939 - accuracy: 0.2957\n",
      "Epoch 21/100\n",
      "377/377 [==============================] - 2s 6ms/step - loss: 3.3361 - accuracy: 0.2996\n",
      "Epoch 22/100\n",
      "377/377 [==============================] - 2s 6ms/step - loss: 3.2429 - accuracy: 0.3052\n",
      "Epoch 23/100\n",
      "377/377 [==============================] - 2s 6ms/step - loss: 3.1850 - accuracy: 0.3163\n",
      "Epoch 24/100\n",
      "377/377 [==============================] - 2s 6ms/step - loss: 3.0822 - accuracy: 0.3297\n",
      "Epoch 25/100\n",
      "377/377 [==============================] - 3s 7ms/step - loss: 3.0434 - accuracy: 0.3361\n",
      "Epoch 26/100\n",
      "377/377 [==============================] - 2s 7ms/step - loss: 2.9964 - accuracy: 0.3412\n",
      "Epoch 27/100\n",
      "377/377 [==============================] - 2s 6ms/step - loss: 2.9347 - accuracy: 0.3498\n",
      "Epoch 28/100\n",
      "377/377 [==============================] - 2s 6ms/step - loss: 2.9124 - accuracy: 0.3542\n",
      "Epoch 29/100\n",
      "377/377 [==============================] - 2s 6ms/step - loss: 2.8410 - accuracy: 0.3566\n",
      "Epoch 30/100\n",
      "377/377 [==============================] - 2s 7ms/step - loss: 2.7475 - accuracy: 0.3794\n",
      "Epoch 31/100\n",
      "377/377 [==============================] - 2s 6ms/step - loss: 2.7064 - accuracy: 0.3789\n",
      "Epoch 32/100\n",
      "377/377 [==============================] - 2s 6ms/step - loss: 2.7225 - accuracy: 0.3827\n",
      "Epoch 33/100\n",
      "377/377 [==============================] - 2s 7ms/step - loss: 2.5850 - accuracy: 0.4028\n",
      "Epoch 34/100\n",
      "377/377 [==============================] - 2s 7ms/step - loss: 2.5620 - accuracy: 0.4100\n",
      "Epoch 35/100\n",
      "377/377 [==============================] - 2s 7ms/step - loss: 2.5406 - accuracy: 0.4097\n",
      "Epoch 36/100\n",
      "377/377 [==============================] - 2s 6ms/step - loss: 2.4668 - accuracy: 0.4275\n",
      "Epoch 37/100\n",
      "377/377 [==============================] - 2s 7ms/step - loss: 2.4326 - accuracy: 0.4300\n",
      "Epoch 38/100\n",
      "377/377 [==============================] - 2s 6ms/step - loss: 2.4831 - accuracy: 0.4300\n",
      "Epoch 39/100\n",
      "377/377 [==============================] - 3s 7ms/step - loss: 2.3840 - accuracy: 0.4425\n",
      "Epoch 40/100\n",
      "377/377 [==============================] - 2s 6ms/step - loss: 2.3256 - accuracy: 0.4522\n",
      "Epoch 41/100\n",
      "377/377 [==============================] - 2s 7ms/step - loss: 2.2984 - accuracy: 0.4499\n",
      "Epoch 42/100\n",
      "377/377 [==============================] - 2s 6ms/step - loss: 2.2228 - accuracy: 0.4738\n",
      "Epoch 43/100\n",
      "377/377 [==============================] - 2s 6ms/step - loss: 2.2130 - accuracy: 0.4703\n",
      "Epoch 44/100\n",
      "377/377 [==============================] - 2s 6ms/step - loss: 2.1927 - accuracy: 0.4773\n",
      "Epoch 45/100\n",
      "377/377 [==============================] - 2s 6ms/step - loss: 2.1895 - accuracy: 0.4673\n",
      "Epoch 46/100\n",
      "377/377 [==============================] - 3s 7ms/step - loss: 2.2164 - accuracy: 0.4665\n",
      "Epoch 47/100\n",
      "377/377 [==============================] - 3s 7ms/step - loss: 2.1525 - accuracy: 0.4808\n",
      "Epoch 48/100\n",
      "377/377 [==============================] - 2s 7ms/step - loss: 2.0912 - accuracy: 0.4957\n",
      "Epoch 49/100\n",
      "377/377 [==============================] - 2s 6ms/step - loss: 2.0576 - accuracy: 0.5003\n",
      "Epoch 50/100\n",
      "377/377 [==============================] - 2s 7ms/step - loss: 2.0098 - accuracy: 0.5069\n",
      "Epoch 51/100\n",
      "377/377 [==============================] - 3s 7ms/step - loss: 1.9733 - accuracy: 0.5165\n",
      "Epoch 52/100\n",
      "377/377 [==============================] - 3s 7ms/step - loss: 2.0453 - accuracy: 0.5048\n",
      "Epoch 53/100\n",
      "377/377 [==============================] - 3s 7ms/step - loss: 1.9756 - accuracy: 0.5122\n",
      "Epoch 54/100\n",
      "377/377 [==============================] - 3s 7ms/step - loss: 1.9520 - accuracy: 0.5180\n",
      "Epoch 55/100\n",
      "377/377 [==============================] - 2s 7ms/step - loss: 1.9204 - accuracy: 0.5251\n",
      "Epoch 56/100\n",
      "377/377 [==============================] - 2s 7ms/step - loss: 1.9525 - accuracy: 0.5241\n",
      "Epoch 57/100\n",
      "377/377 [==============================] - 3s 7ms/step - loss: 1.8146 - accuracy: 0.5555\n",
      "Epoch 58/100\n",
      "377/377 [==============================] - 3s 9ms/step - loss: 1.7944 - accuracy: 0.5557\n",
      "Epoch 59/100\n",
      "377/377 [==============================] - 3s 8ms/step - loss: 1.8215 - accuracy: 0.5506\n",
      "Epoch 60/100\n",
      "377/377 [==============================] - 3s 7ms/step - loss: 1.8007 - accuracy: 0.5560\n",
      "Epoch 61/100\n",
      "377/377 [==============================] - 3s 7ms/step - loss: 1.7552 - accuracy: 0.5633\n",
      "Epoch 62/100\n",
      "377/377 [==============================] - 3s 7ms/step - loss: 1.8551 - accuracy: 0.5457\n",
      "Epoch 63/100\n",
      "377/377 [==============================] - 3s 7ms/step - loss: 1.7722 - accuracy: 0.5569\n",
      "Epoch 64/100\n",
      "377/377 [==============================] - 2s 7ms/step - loss: 1.7135 - accuracy: 0.5705\n",
      "Epoch 65/100\n",
      "377/377 [==============================] - 2s 6ms/step - loss: 1.7048 - accuracy: 0.5712\n",
      "Epoch 66/100\n",
      "377/377 [==============================] - 2s 6ms/step - loss: 1.7206 - accuracy: 0.5757\n",
      "Epoch 67/100\n",
      "377/377 [==============================] - 2s 6ms/step - loss: 1.8059 - accuracy: 0.5545\n",
      "Epoch 68/100\n",
      "377/377 [==============================] - 2s 6ms/step - loss: 1.6938 - accuracy: 0.5745\n",
      "Epoch 69/100\n",
      "377/377 [==============================] - 3s 7ms/step - loss: 1.6481 - accuracy: 0.5813\n",
      "Epoch 70/100\n",
      "377/377 [==============================] - 3s 7ms/step - loss: 1.6289 - accuracy: 0.5908\n",
      "Epoch 71/100\n",
      "377/377 [==============================] - 3s 7ms/step - loss: 1.6673 - accuracy: 0.5856\n",
      "Epoch 72/100\n",
      "377/377 [==============================] - 2s 7ms/step - loss: 1.6422 - accuracy: 0.5913\n",
      "Epoch 73/100\n",
      "377/377 [==============================] - 2s 7ms/step - loss: 1.5922 - accuracy: 0.6050\n",
      "Epoch 74/100\n",
      "377/377 [==============================] - 3s 7ms/step - loss: 1.6681 - accuracy: 0.5808\n",
      "Epoch 75/100\n"
     ]
    },
    {
     "name": "stdout",
     "output_type": "stream",
     "text": [
      "377/377 [==============================] - 2s 6ms/step - loss: 1.5771 - accuracy: 0.6012\n",
      "Epoch 76/100\n",
      "377/377 [==============================] - 2s 6ms/step - loss: 1.6505 - accuracy: 0.5918\n",
      "Epoch 77/100\n",
      "377/377 [==============================] - 3s 7ms/step - loss: 1.6589 - accuracy: 0.5862\n",
      "Epoch 78/100\n",
      "377/377 [==============================] - 3s 7ms/step - loss: 1.6431 - accuracy: 0.5851\n",
      "Epoch 79/100\n",
      "377/377 [==============================] - 3s 7ms/step - loss: 1.5445 - accuracy: 0.6098\n",
      "Epoch 80/100\n",
      "377/377 [==============================] - 2s 7ms/step - loss: 1.5506 - accuracy: 0.6088\n",
      "Epoch 81/100\n",
      "377/377 [==============================] - 3s 7ms/step - loss: 1.5103 - accuracy: 0.6131\n",
      "Epoch 82/100\n",
      "377/377 [==============================] - 3s 7ms/step - loss: 1.4202 - accuracy: 0.6325\n",
      "Epoch 83/100\n",
      "377/377 [==============================] - 3s 7ms/step - loss: 1.4742 - accuracy: 0.6257\n",
      "Epoch 84/100\n",
      "377/377 [==============================] - 3s 7ms/step - loss: 1.5402 - accuracy: 0.6226\n",
      "Epoch 85/100\n",
      "377/377 [==============================] - 3s 8ms/step - loss: 1.5364 - accuracy: 0.6111\n",
      "Epoch 86/100\n",
      "377/377 [==============================] - 3s 8ms/step - loss: 1.4829 - accuracy: 0.6106\n",
      "Epoch 87/100\n",
      "377/377 [==============================] - 3s 7ms/step - loss: 1.5207 - accuracy: 0.6122\n",
      "Epoch 88/100\n",
      "377/377 [==============================] - 2s 6ms/step - loss: 1.4152 - accuracy: 0.6347\n",
      "Epoch 89/100\n",
      "377/377 [==============================] - 3s 7ms/step - loss: 1.4342 - accuracy: 0.6321\n",
      "Epoch 90/100\n",
      "377/377 [==============================] - 2s 7ms/step - loss: 1.3867 - accuracy: 0.6403\n",
      "Epoch 91/100\n",
      "377/377 [==============================] - 3s 7ms/step - loss: 1.3869 - accuracy: 0.6451\n",
      "Epoch 92/100\n",
      "377/377 [==============================] - 2s 7ms/step - loss: 1.4343 - accuracy: 0.6331\n",
      "Epoch 93/100\n",
      "377/377 [==============================] - 3s 7ms/step - loss: 1.4207 - accuracy: 0.6384\n",
      "Epoch 94/100\n",
      "377/377 [==============================] - 3s 7ms/step - loss: 1.4496 - accuracy: 0.6351\n",
      "Epoch 95/100\n",
      "377/377 [==============================] - 2s 6ms/step - loss: 1.5107 - accuracy: 0.6262\n",
      "Epoch 96/100\n",
      "377/377 [==============================] - 3s 7ms/step - loss: 1.4940 - accuracy: 0.6205\n",
      "Epoch 97/100\n",
      "377/377 [==============================] - 2s 7ms/step - loss: 1.4677 - accuracy: 0.6281\n",
      "Epoch 98/100\n",
      "377/377 [==============================] - 3s 7ms/step - loss: 1.4236 - accuracy: 0.6306\n",
      "Epoch 99/100\n",
      "377/377 [==============================] - 3s 7ms/step - loss: 1.3881 - accuracy: 0.6485\n",
      "Epoch 100/100\n",
      "377/377 [==============================] - 2s 7ms/step - loss: 1.3072 - accuracy: 0.6615\n"
     ]
    }
   ],
   "source": [
    "history = model.fit(xs, ys, epochs=100, verbose=1)"
   ]
  },
  {
   "cell_type": "markdown",
   "id": "742241ef",
   "metadata": {},
   "source": [
    "#### Evaluate"
   ]
  },
  {
   "cell_type": "code",
   "execution_count": 21,
   "id": "34f65684",
   "metadata": {},
   "outputs": [],
   "source": [
    "import matplotlib.pyplot as plt\n",
    "\n",
    "\n",
    "def plot_graphs(history, string):\n",
    "    plt.plot(history.history[string])\n",
    "    plt.xlabel(\"Epochs\")\n",
    "    plt.ylabel(string)\n",
    "    plt.show()"
   ]
  },
  {
   "cell_type": "code",
   "execution_count": 22,
   "id": "3f67693c",
   "metadata": {},
   "outputs": [
    {
     "data": {
      "image/png": "[encoded data removed]",
      "text/plain": [
       "<Figure size 432x288 with 1 Axes>"
      ]
     },
     "metadata": {
      "needs_background": "light"
     },
     "output_type": "display_data"
    }
   ],
   "source": [
    "plot_graphs(history, 'accuracy')"
   ]
  },
  {
   "cell_type": "code",
   "execution_count": 23,
   "id": "c58bc85c",
   "metadata": {},
   "outputs": [
    {
     "data": {
      "image/png": "[encoded data removed]",
      "text/plain": [
       "<Figure size 432x288 with 1 Axes>"
      ]
     },
     "metadata": {
      "needs_background": "light"
     },
     "output_type": "display_data"
    }
   ],
   "source": [
    "plot_graphs(history, 'loss')"
   ]
  },
  {
   "cell_type": "markdown",
   "id": "9aac17af",
   "metadata": {},
   "source": [
    "#### Prediction"
   ]
  },
  {
   "cell_type": "code",
   "execution_count": 33,
   "id": "80e28572",
   "metadata": {},
   "outputs": [
    {
     "name": "stdout",
     "output_type": "stream",
     "text": [
      "WARNING:tensorflow:Model was constructed with shape (None, 16) for input KerasTensor(type_spec=TensorSpec(shape=(None, 16), dtype=tf.float32, name='embedding_input'), name='embedding_input', description=\"created by layer 'embedding_input'\"), but it was called on an input with incompatible shape (None, 15).\n"
     ]
    }
   ],
   "source": [
    "seed_text = \"I've got a bad feeling about this\"\n",
    "next_words = 10\n",
    "  \n",
    "for _ in range(next_words):\n",
    "\ttoken_list = tokenizer.texts_to_sequences([seed_text])[0]\n",
    "\ttoken_list = pad_sequences([token_list], maxlen=max_sequence_len-1, padding='pre')\n",
    "\tpredicted = model.predict_classes(token_list, verbose=0)\n",
    "\toutput_word = \"\"\n",
    "\tfor word, index in tokenizer.word_index.items():\n",
    "\t\tif index == predicted:\n",
    "\t\t\toutput_word = word\n",
    "\t\t\tbreak\n",
    "\tseed_text += \" \" + output_word"
   ]
  },
  {
   "cell_type": "code",
   "execution_count": 34,
   "id": "fc93ad02",
   "metadata": {},
   "outputs": [
    {
     "data": {
      "text/plain": [
       "\"I've got a bad feeling about this night i was forced to my love in my love\""
      ]
     },
     "execution_count": 34,
     "metadata": {},
     "output_type": "execute_result"
    }
   ],
   "source": [
    "seed_text"
   ]
  },
  {
   "cell_type": "code",
   "execution_count": 41,
   "id": "be90558e",
   "metadata": {},
   "outputs": [],
   "source": [
    "seed_text = \"I've got a good feeling about this\"\n",
    "next_words = 10\n",
    "  \n",
    "for _ in range(next_words):\n",
    "\ttoken_list = tokenizer.texts_to_sequences([seed_text])[0]\n",
    "\ttoken_list = pad_sequences([token_list], maxlen=max_sequence_len-1, padding='pre')\n",
    "\tpredicted = model.predict_classes(token_list, verbose=0)\n",
    "\toutput_word = \"\"\n",
    "\tfor word, index in tokenizer.word_index.items():\n",
    "\t\tif index == predicted:\n",
    "\t\t\toutput_word = word\n",
    "\t\t\tbreak\n",
    "\tseed_text += \" \" + output_word"
   ]
  },
  {
   "cell_type": "code",
   "execution_count": 42,
   "id": "1a0e00da",
   "metadata": {},
   "outputs": [
    {
     "data": {
      "text/plain": [
       "\"I've got a good feeling about this night i was forced to the rose of tralee and\""
      ]
     },
     "execution_count": 42,
     "metadata": {},
     "output_type": "execute_result"
    }
   ],
   "source": [
    "seed_text"
   ]
  },
  {
   "cell_type": "code",
   "execution_count": null,
   "id": "960ce383",
   "metadata": {},
   "outputs": [],
   "source": []
  },
  {
   "cell_type": "code",
   "execution_count": null,
   "id": "bd6a1d2e",
   "metadata": {},
   "outputs": [],
   "source": []
  }
 ],
 "metadata": {
  "kernelspec": {
   "display_name": "Python 3 (ipykernel)",
   "language": "python",
   "name": "python3"
  },
  "language_info": {
   "codemirror_mode": {
    "name": "ipython",
    "version": 3
   },
   "file_extension": ".py",
   "mimetype": "text/x-python",
   "name": "python",
   "nbconvert_exporter": "python",
   "pygments_lexer": "ipython3",
   "version": "3.8.0"
  }
 },
 "nbformat": 4,
 "nbformat_minor": 5
}
